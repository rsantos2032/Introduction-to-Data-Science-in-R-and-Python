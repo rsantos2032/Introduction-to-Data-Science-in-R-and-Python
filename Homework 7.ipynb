{
 "cells": [
  {
   "cell_type": "markdown",
   "id": "66f81371-d387-4a40-b43b-8855cdedc319",
   "metadata": {},
   "source": [
    "# Homework 7\n",
    "### Rolando Santos\n",
    "### https://github.com/rsantos2032/DSCI401/\n",
    "### 2023-11-26"
   ]
  },
  {
   "cell_type": "code",
   "execution_count": 2,
   "id": "fa44207a-818c-4221-b2d2-03a57e23af0b",
   "metadata": {},
   "outputs": [],
   "source": [
    "import numpy as np # linear algebra\n",
    "import pandas as pd # data processing, CSV file I/O (e.g. pd.read_csv)\n",
    "from tensorflow import keras\n",
    "from tensorflow.keras import layers\n",
    "from tensorflow.keras.utils import to_categorical"
   ]
  },
  {
   "cell_type": "code",
   "execution_count": 4,
   "id": "8248c317-7f04-4f5d-81ec-cea71d0aa892",
   "metadata": {},
   "outputs": [],
   "source": [
    "sample_submission = pd.read_csv('sample_submission.csv')\n",
    "train = pd.read_csv('train.csv').drop(columns='id')\n",
    "test = pd.read_csv('test.csv').drop(columns='id')"
   ]
  },
  {
   "cell_type": "code",
   "execution_count": 5,
   "id": "f87065c7-774b-4b9b-99c8-c00a02301224",
   "metadata": {},
   "outputs": [
    {
     "data": {
      "text/html": [
       "<div>\n",
       "<style scoped>\n",
       "    .dataframe tbody tr th:only-of-type {\n",
       "        vertical-align: middle;\n",
       "    }\n",
       "\n",
       "    .dataframe tbody tr th {\n",
       "        vertical-align: top;\n",
       "    }\n",
       "\n",
       "    .dataframe thead th {\n",
       "        text-align: right;\n",
       "    }\n",
       "</style>\n",
       "<table border=\"1\" class=\"dataframe\">\n",
       "  <thead>\n",
       "    <tr style=\"text-align: right;\">\n",
       "      <th></th>\n",
       "      <th>Mean_Integrated</th>\n",
       "      <th>SD</th>\n",
       "      <th>EK</th>\n",
       "      <th>Skewness</th>\n",
       "      <th>Mean_DMSNR_Curve</th>\n",
       "      <th>SD_DMSNR_Curve</th>\n",
       "      <th>EK_DMSNR_Curve</th>\n",
       "      <th>Skewness_DMSNR_Curve</th>\n",
       "      <th>Class</th>\n",
       "    </tr>\n",
       "  </thead>\n",
       "  <tbody>\n",
       "    <tr>\n",
       "      <th>0</th>\n",
       "      <td>133.171875</td>\n",
       "      <td>59.716081</td>\n",
       "      <td>0.043133</td>\n",
       "      <td>-0.703383</td>\n",
       "      <td>54.917224</td>\n",
       "      <td>70.084438</td>\n",
       "      <td>0.749798</td>\n",
       "      <td>-0.649512</td>\n",
       "      <td>0</td>\n",
       "    </tr>\n",
       "    <tr>\n",
       "      <th>1</th>\n",
       "      <td>87.093750</td>\n",
       "      <td>36.257973</td>\n",
       "      <td>0.435469</td>\n",
       "      <td>2.266057</td>\n",
       "      <td>3.417224</td>\n",
       "      <td>21.865069</td>\n",
       "      <td>7.039330</td>\n",
       "      <td>52.686251</td>\n",
       "      <td>0</td>\n",
       "    </tr>\n",
       "    <tr>\n",
       "      <th>2</th>\n",
       "      <td>112.640625</td>\n",
       "      <td>39.818393</td>\n",
       "      <td>0.379639</td>\n",
       "      <td>0.922306</td>\n",
       "      <td>2.730769</td>\n",
       "      <td>15.689690</td>\n",
       "      <td>8.193471</td>\n",
       "      <td>85.649785</td>\n",
       "      <td>0</td>\n",
       "    </tr>\n",
       "    <tr>\n",
       "      <th>3</th>\n",
       "      <td>120.679688</td>\n",
       "      <td>45.918448</td>\n",
       "      <td>-0.098490</td>\n",
       "      <td>0.011775</td>\n",
       "      <td>2.696488</td>\n",
       "      <td>20.954662</td>\n",
       "      <td>8.183874</td>\n",
       "      <td>70.332899</td>\n",
       "      <td>0</td>\n",
       "    </tr>\n",
       "    <tr>\n",
       "      <th>4</th>\n",
       "      <td>134.070312</td>\n",
       "      <td>57.720107</td>\n",
       "      <td>-0.107772</td>\n",
       "      <td>-0.573335</td>\n",
       "      <td>1.107860</td>\n",
       "      <td>11.255051</td>\n",
       "      <td>16.107748</td>\n",
       "      <td>308.753765</td>\n",
       "      <td>0</td>\n",
       "    </tr>\n",
       "  </tbody>\n",
       "</table>\n",
       "</div>"
      ],
      "text/plain": [
       "   Mean_Integrated         SD        EK  Skewness  Mean_DMSNR_Curve  \\\n",
       "0       133.171875  59.716081  0.043133 -0.703383         54.917224   \n",
       "1        87.093750  36.257973  0.435469  2.266057          3.417224   \n",
       "2       112.640625  39.818393  0.379639  0.922306          2.730769   \n",
       "3       120.679688  45.918448 -0.098490  0.011775          2.696488   \n",
       "4       134.070312  57.720107 -0.107772 -0.573335          1.107860   \n",
       "\n",
       "   SD_DMSNR_Curve  EK_DMSNR_Curve  Skewness_DMSNR_Curve  Class  \n",
       "0       70.084438        0.749798             -0.649512      0  \n",
       "1       21.865069        7.039330             52.686251      0  \n",
       "2       15.689690        8.193471             85.649785      0  \n",
       "3       20.954662        8.183874             70.332899      0  \n",
       "4       11.255051       16.107748            308.753765      0  "
      ]
     },
     "execution_count": 5,
     "metadata": {},
     "output_type": "execute_result"
    }
   ],
   "source": [
    "train.head()"
   ]
  },
  {
   "cell_type": "code",
   "execution_count": 6,
   "id": "52c2741a-4926-4716-971b-a210b832e8b3",
   "metadata": {},
   "outputs": [
    {
     "data": {
      "text/plain": [
       "Mean_Integrated         0\n",
       "SD                      0\n",
       "EK                      0\n",
       "Skewness                0\n",
       "Mean_DMSNR_Curve        0\n",
       "SD_DMSNR_Curve          0\n",
       "EK_DMSNR_Curve          0\n",
       "Skewness_DMSNR_Curve    0\n",
       "Class                   0\n",
       "dtype: int64"
      ]
     },
     "execution_count": 6,
     "metadata": {},
     "output_type": "execute_result"
    }
   ],
   "source": [
    "train.isna().sum()"
   ]
  },
  {
   "cell_type": "markdown",
   "id": "09a1b938-95bf-4d37-b17c-0c19add275c6",
   "metadata": {},
   "source": [
    "Our data has no NA cells, so no imputation or removal is needed."
   ]
  },
  {
   "cell_type": "code",
   "execution_count": 10,
   "id": "751934af-f1fd-4c3c-9393-ad2b6b56e002",
   "metadata": {},
   "outputs": [
    {
     "data": {
      "text/plain": [
       "array([[ 1.33171875e+02,  5.97160815e+01,  4.31329240e-02, ...,\n",
       "         7.49797994e-01, -6.49512056e-01,  0.00000000e+00],\n",
       "       [ 8.70937500e+01,  3.62579733e+01,  4.35468922e-01, ...,\n",
       "         7.03933030e+00,  5.26862514e+01,  0.00000000e+00],\n",
       "       [ 1.12640625e+02,  3.98183935e+01,  3.79638726e-01, ...,\n",
       "         8.19347104e+00,  8.56497849e+01,  0.00000000e+00],\n",
       "       ...,\n",
       "       [ 1.19757812e+02,  4.99800131e+01,  6.44015080e-02, ...,\n",
       "         6.95974013e+00,  5.63677886e+01,  0.00000000e+00],\n",
       "       [ 1.05789062e+02,  4.69865952e+01,  4.41426486e-01, ...,\n",
       "         9.44244492e+00,  9.90745394e+01,  0.00000000e+00],\n",
       "       [ 1.13515625e+02,  5.09359561e+01,  3.15166910e-02, ...,\n",
       "         2.38636423e+00,  4.00185934e+00,  0.00000000e+00]])"
      ]
     },
     "execution_count": 10,
     "metadata": {},
     "output_type": "execute_result"
    }
   ],
   "source": [
    "pulsar_train = train.to_numpy()\n",
    "pulsar_test = test.to_numpy()\n",
    "pulsar_train"
   ]
  },
  {
   "cell_type": "code",
   "execution_count": 11,
   "id": "f482edc5-71dd-4bb0-87ca-2ac61f0fe08b",
   "metadata": {},
   "outputs": [],
   "source": [
    "X_train, y_train = np.hsplit(pulsar_train, [8])\n",
    "X_test = pulsar_test\n",
    "y_train = to_categorical(y_train, num_classes=2)"
   ]
  },
  {
   "cell_type": "code",
   "execution_count": 12,
   "id": "81e3ce83-5b51-4efd-8f7f-053d722db23f",
   "metadata": {},
   "outputs": [
    {
     "name": "stdout",
     "output_type": "stream",
     "text": [
      "Model: \"sequential\"\n",
      "_________________________________________________________________\n",
      " Layer (type)                Output Shape              Param #   \n",
      "=================================================================\n",
      " dense (Dense)               (None, 64)                576       \n",
      "                                                                 \n",
      " dense_1 (Dense)             (None, 128)               8320      \n",
      "                                                                 \n",
      " dense_2 (Dense)             (None, 2)                 258       \n",
      "                                                                 \n",
      "=================================================================\n",
      "Total params: 9154 (35.76 KB)\n",
      "Trainable params: 9154 (35.76 KB)\n",
      "Non-trainable params: 0 (0.00 Byte)\n",
      "_________________________________________________________________\n"
     ]
    }
   ],
   "source": [
    "def normalize(X):\n",
    "    return (X-np.min(X))/(np.max(X)-np.min(X))\n",
    "X_train = normalize(X_train)\n",
    "\n",
    "model = keras.Sequential()\n",
    "model.add(layers.Dense(64, input_dim = 8, activation= 'relu'))\n",
    "model.add(layers.Dense(128, activation = 'relu'))\n",
    "model.add(layers.Dense(2, activation = 'sigmoid'))\n",
    "model.summary()"
   ]
  },
  {
   "cell_type": "markdown",
   "id": "2de92fe7-aeab-495c-8de1-35884f381433",
   "metadata": {},
   "source": [
    "Using sigmoid instead of softmax since it's preferred for binary classifications. I also normalized the data so that all continuous variables are between 0 and 1."
   ]
  },
  {
   "cell_type": "code",
   "execution_count": 13,
   "id": "6f33358e-2eae-4e63-bf13-dae331bb6e7c",
   "metadata": {},
   "outputs": [
    {
     "name": "stdout",
     "output_type": "stream",
     "text": [
      "Epoch 1/15\n",
      "1837/1837 [==============================] - 12s 5ms/step - loss: 0.0766 - accuracy: 0.9782\n",
      "Epoch 2/15\n",
      "1837/1837 [==============================] - 14s 8ms/step - loss: 0.0456 - accuracy: 0.9871\n",
      "Epoch 3/15\n",
      "1837/1837 [==============================] - 14s 8ms/step - loss: 0.0444 - accuracy: 0.9873\n",
      "Epoch 4/15\n",
      "1837/1837 [==============================] - 11s 6ms/step - loss: 0.0436 - accuracy: 0.9876\n",
      "Epoch 5/15\n",
      "1837/1837 [==============================] - 18s 10ms/step - loss: 0.0429 - accuracy: 0.9877\n",
      "Epoch 6/15\n",
      "1837/1837 [==============================] - 10s 6ms/step - loss: 0.0424 - accuracy: 0.9878\n",
      "Epoch 7/15\n",
      "1837/1837 [==============================] - 9s 5ms/step - loss: 0.0420 - accuracy: 0.9880\n",
      "Epoch 8/15\n",
      "1837/1837 [==============================] - 9s 5ms/step - loss: 0.0418 - accuracy: 0.9882\n",
      "Epoch 9/15\n",
      "1837/1837 [==============================] - 12s 6ms/step - loss: 0.0414 - accuracy: 0.9882\n",
      "Epoch 10/15\n",
      "1837/1837 [==============================] - 9s 5ms/step - loss: 0.0411 - accuracy: 0.9882\n",
      "Epoch 11/15\n",
      "1837/1837 [==============================] - 10s 5ms/step - loss: 0.0410 - accuracy: 0.9884\n",
      "Epoch 12/15\n",
      "1837/1837 [==============================] - 9s 5ms/step - loss: 0.0406 - accuracy: 0.9885\n",
      "Epoch 13/15\n",
      "1837/1837 [==============================] - 8s 5ms/step - loss: 0.0403 - accuracy: 0.9886\n",
      "Epoch 14/15\n",
      "1837/1837 [==============================] - 7s 4ms/step - loss: 0.0402 - accuracy: 0.9889\n",
      "Epoch 15/15\n",
      "1837/1837 [==============================] - 8s 4ms/step - loss: 0.0404 - accuracy: 0.9886\n"
     ]
    },
    {
     "data": {
      "text/plain": [
       "<keras.src.callbacks.History at 0x1502ea710>"
      ]
     },
     "execution_count": 13,
     "metadata": {},
     "output_type": "execute_result"
    }
   ],
   "source": [
    "model.compile(\n",
    "    loss=\"binary_crossentropy\", \n",
    "    optimizer=\"adam\", \n",
    "    metrics=[\"accuracy\"]\n",
    ")\n",
    "model.fit(X_train, y_train,epochs = 15, batch_size = 64)"
   ]
  },
  {
   "cell_type": "code",
   "execution_count": 14,
   "id": "cf453a25-cc34-49fd-acb9-985d08fe09b3",
   "metadata": {},
   "outputs": [
    {
     "data": {
      "text/plain": [
       "array([[0.13261142, 0.05306607, 0.00243238, ..., 0.01620415, 0.01129731,\n",
       "        0.11209894],\n",
       "       [0.10265024, 0.05034246, 0.00264208, ..., 0.0140031 , 0.01325314,\n",
       "        0.17228032],\n",
       "       [0.1279763 , 0.04869963, 0.00229601, ..., 0.02213245, 0.00912185,\n",
       "        0.0572635 ],\n",
       "       ...,\n",
       "       [0.12493223, 0.04282315, 0.00242334, ..., 0.0159914 , 0.01251273,\n",
       "        0.13994126],\n",
       "       [0.07628527, 0.04197405, 0.00313775, ..., 0.01711236, 0.01234998,\n",
       "        0.13561228],\n",
       "       [0.06585989, 0.03921384, 0.00416719, ..., 0.05365742, 0.00469268,\n",
       "        0.00741135]])"
      ]
     },
     "execution_count": 14,
     "metadata": {},
     "output_type": "execute_result"
    }
   ],
   "source": [
    "X_test = normalize(X_test)\n",
    "X_test"
   ]
  },
  {
   "cell_type": "code",
   "execution_count": 16,
   "id": "7266dc37-71e6-46d7-b0a0-a782c09f6620",
   "metadata": {},
   "outputs": [
    {
     "name": "stdout",
     "output_type": "stream",
     "text": [
      "2450/2450 [==============================] - 17s 7ms/step\n"
     ]
    }
   ],
   "source": [
    "y_pred = model.predict(X_test)"
   ]
  },
  {
   "cell_type": "code",
   "execution_count": 17,
   "id": "9b144a63-1e3b-4c27-9023-68ff45156868",
   "metadata": {},
   "outputs": [
    {
     "data": {
      "text/html": [
       "<div>\n",
       "<style scoped>\n",
       "    .dataframe tbody tr th:only-of-type {\n",
       "        vertical-align: middle;\n",
       "    }\n",
       "\n",
       "    .dataframe tbody tr th {\n",
       "        vertical-align: top;\n",
       "    }\n",
       "\n",
       "    .dataframe thead th {\n",
       "        text-align: right;\n",
       "    }\n",
       "</style>\n",
       "<table border=\"1\" class=\"dataframe\">\n",
       "  <thead>\n",
       "    <tr style=\"text-align: right;\">\n",
       "      <th></th>\n",
       "      <th>id</th>\n",
       "      <th>Class</th>\n",
       "    </tr>\n",
       "  </thead>\n",
       "  <tbody>\n",
       "    <tr>\n",
       "      <th>0</th>\n",
       "      <td>117564</td>\n",
       "      <td>0.000071</td>\n",
       "    </tr>\n",
       "    <tr>\n",
       "      <th>1</th>\n",
       "      <td>117565</td>\n",
       "      <td>0.001210</td>\n",
       "    </tr>\n",
       "    <tr>\n",
       "      <th>2</th>\n",
       "      <td>117566</td>\n",
       "      <td>0.000120</td>\n",
       "    </tr>\n",
       "    <tr>\n",
       "      <th>3</th>\n",
       "      <td>117567</td>\n",
       "      <td>0.004893</td>\n",
       "    </tr>\n",
       "    <tr>\n",
       "      <th>4</th>\n",
       "      <td>117568</td>\n",
       "      <td>0.004559</td>\n",
       "    </tr>\n",
       "    <tr>\n",
       "      <th>...</th>\n",
       "      <td>...</td>\n",
       "      <td>...</td>\n",
       "    </tr>\n",
       "    <tr>\n",
       "      <th>78372</th>\n",
       "      <td>195936</td>\n",
       "      <td>0.000386</td>\n",
       "    </tr>\n",
       "    <tr>\n",
       "      <th>78373</th>\n",
       "      <td>195937</td>\n",
       "      <td>0.000147</td>\n",
       "    </tr>\n",
       "    <tr>\n",
       "      <th>78374</th>\n",
       "      <td>195938</td>\n",
       "      <td>0.000102</td>\n",
       "    </tr>\n",
       "    <tr>\n",
       "      <th>78375</th>\n",
       "      <td>195939</td>\n",
       "      <td>0.049222</td>\n",
       "    </tr>\n",
       "    <tr>\n",
       "      <th>78376</th>\n",
       "      <td>195940</td>\n",
       "      <td>0.970126</td>\n",
       "    </tr>\n",
       "  </tbody>\n",
       "</table>\n",
       "<p>78377 rows × 2 columns</p>\n",
       "</div>"
      ],
      "text/plain": [
       "           id     Class\n",
       "0      117564  0.000071\n",
       "1      117565  0.001210\n",
       "2      117566  0.000120\n",
       "3      117567  0.004893\n",
       "4      117568  0.004559\n",
       "...       ...       ...\n",
       "78372  195936  0.000386\n",
       "78373  195937  0.000147\n",
       "78374  195938  0.000102\n",
       "78375  195939  0.049222\n",
       "78376  195940  0.970126\n",
       "\n",
       "[78377 rows x 2 columns]"
      ]
     },
     "execution_count": 17,
     "metadata": {},
     "output_type": "execute_result"
    }
   ],
   "source": [
    "sample_submission['Class']=y_pred[:,1]\n",
    "sample_submission"
   ]
  },
  {
   "cell_type": "code",
   "execution_count": 18,
   "id": "7ae47621-74ab-4d7f-82e1-dacb698130e3",
   "metadata": {},
   "outputs": [],
   "source": [
    "sample_submission.to_csv('sub.csv',index=False)"
   ]
  }
 ],
 "metadata": {
  "kernelspec": {
   "display_name": "Python 3 (ipykernel)",
   "language": "python",
   "name": "python3"
  },
  "language_info": {
   "codemirror_mode": {
    "name": "ipython",
    "version": 3
   },
   "file_extension": ".py",
   "mimetype": "text/x-python",
   "name": "python",
   "nbconvert_exporter": "python",
   "pygments_lexer": "ipython3",
   "version": "3.11.5"
  }
 },
 "nbformat": 4,
 "nbformat_minor": 5
}
